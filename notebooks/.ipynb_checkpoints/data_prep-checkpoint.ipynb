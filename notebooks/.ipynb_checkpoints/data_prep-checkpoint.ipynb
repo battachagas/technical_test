{
 "cells": [
  {
   "cell_type": "markdown",
   "id": "36765753-12cf-496f-98b8-fbb1a0e18f41",
   "metadata": {},
   "source": [
    "# Libraries"
   ]
  },
  {
   "cell_type": "code",
   "execution_count": 1,
   "id": "dbbdcd12-564a-4791-bfa3-0c56645270fc",
   "metadata": {},
   "outputs": [],
   "source": [
    "import os\n",
    "import pandas as pd\n",
    "import numpy as np\n",
    "import matplotlib.pyplot as plt\n",
    "import seaborn as sns\n",
    "\n",
    "from statistics import mode\n",
    "from pyspark.sql import functions as f\n",
    "from pyspark.sql import types as t\n",
    "from pyspark.sql import Window as w\n",
    "from pyspark.sql import SparkSession\n",
    "from pyspark import StorageLevel\n",
    "from pyspark.sql.functions import col,isnan, when, count\n",
    "from pyspark.sql.functions import *\n",
    "from pyspark.sql.types import DecimalType\n",
    "from pyspark.ml.feature import Bucketizer, StringIndexer, OneHotEncoder\n",
    "from pyspark.ml import Pipeline\n",
    "from colorama import Fore\n",
    "from datetime import datetime\n",
    "\n",
    "import warnings\n",
    "warnings.filterwarnings(\"ignore\")"
   ]
  },
  {
   "cell_type": "markdown",
   "id": "f770ac54-f905-4b80-b740-3ef649b9b15f",
   "metadata": {},
   "source": [
    "# Setup"
   ]
  },
  {
   "cell_type": "code",
   "execution_count": 2,
   "id": "98363d31-227f-47fa-b5da-09bc7a070b9f",
   "metadata": {
    "scrolled": true
   },
   "outputs": [],
   "source": [
    "# Obtém o diretório atual (onde o notebook está localizado)\n",
    "current_directory = os.getcwd()\n",
    "\n",
    "# Volta uma pasta (vai para o diretório pai)\n",
    "parent_directory = os.path.dirname(current_directory)\n",
    "\n",
    "# Cria uma pasta chamada 'datasets' no diretório pai\n",
    "datasets_directory = os.path.join(parent_directory, 'datasets')\n",
    "\n",
    "# Verifica se a pasta 'datasets' já existe, se não, a cria\n",
    "if not os.path.exists(datasets_directory):\n",
    "    os.makedirs(datasets_directory)\n",
    "    \n",
    "\n",
    "df = pd.read_csv(f\"{parent_directory}\\\\Customer-Churn - Customer-Churn.csv\")\n",
    "\n",
    "categorical_columns = ['gender', 'Contract', 'PaymentMethod']\n",
    "df_encoded = pd.get_dummies(df, columns=categorical_columns, drop_first=True)\n",
    "\n",
    "csv_file_path = os.path.join(datasets_directory, 'full_data.csv') \n",
    "\n",
    "df_encoded.to_csv(csv_file_path , index=False)\n",
    "\n",
    "spark = SparkSession.builder \\\n",
    "    .appName(\"Ler Google Sheets com Spark\") \\\n",
    "    .getOrCreate()\n",
    "\n",
    "#NAME = f'dataset_A3Data'\n",
    "# Initialise spark\n",
    "spark = SparkSession.builder.appName(\"test_pyspark\").getOrCreate()\n",
    "\n",
    "INPUT_PATH = csv_file_path\n",
    "# Path output\n",
    "PATH_OUTPUT = datasets_directory\n",
    "# Name file output\n",
    "FILE_NAME_OUTPUT = 'dataset_A3Data'\n",
    "#Time\n",
    "TSTAMP = datetime.now()"
   ]
  },
  {
   "cell_type": "markdown",
   "id": "fa9e55d5-d57d-4522-8793-666bbff9f61a",
   "metadata": {},
   "source": [
    "# Reading dataset"
   ]
  },
  {
   "cell_type": "code",
   "execution_count": 3,
   "id": "a1e2d3e2-8ff6-400e-9fe4-0ad0c9401339",
   "metadata": {
    "scrolled": true
   },
   "outputs": [],
   "source": [
    "try:\n",
    "    del df_spark\n",
    "except:\n",
    "    pass\n",
    "\n",
    "df_spark = spark.read.option(\"delimiter\", \",\").csv(INPUT_PATH, header=True, inferSchema=True)"
   ]
  },
  {
   "cell_type": "code",
   "execution_count": 4,
   "id": "7bf81b2c-cab6-4710-8359-0293bc36e732",
   "metadata": {
    "scrolled": true
   },
   "outputs": [
    {
     "name": "stdout",
     "output_type": "stream",
     "text": [
      "Dimension of the Dataframe is: (7043, 24)\n"
     ]
    }
   ],
   "source": [
    "rows = df_spark.count()\n",
    "cols = len(df_spark.columns)\n",
    "print(f'Dimension of the Dataframe is: {(rows,cols)}')"
   ]
  },
  {
   "cell_type": "markdown",
   "id": "f37a2224-ae02-41c8-94f7-d2e4ed83a071",
   "metadata": {},
   "source": [
    "# Check nulls"
   ]
  },
  {
   "cell_type": "code",
   "execution_count": 5,
   "id": "6b048c04-dfa4-4e33-b78d-2bfcd995a2cb",
   "metadata": {},
   "outputs": [
    {
     "name": "stdout",
     "output_type": "stream",
     "text": [
      "+----------+-------------+-------+----------+------+------------+-------------+---------------+--------------+------------+----------------+-----------+-----------+---------------+----------------+--------------+------------+-----+-----------+-----------------+-----------------+-------------------------------------+------------------------------+--------------------------+\n",
      "|customerID|SeniorCitizen|Partner|Dependents|tenure|PhoneService|MultipleLines|InternetService|OnlineSecurity|OnlineBackup|DeviceProtection|TechSupport|StreamingTV|StreamingMovies|PaperlessBilling|MonthlyCharges|TotalCharges|Churn|gender_Male|Contract_One year|Contract_Two year|PaymentMethod_Credit card (automatic)|PaymentMethod_Electronic check|PaymentMethod_Mailed check|\n",
      "+----------+-------------+-------+----------+------+------------+-------------+---------------+--------------+------------+----------------+-----------+-----------+---------------+----------------+--------------+------------+-----+-----------+-----------------+-----------------+-------------------------------------+------------------------------+--------------------------+\n",
      "|         0|            0|      0|         0|     0|           0|            0|              0|             0|           0|               0|          0|          0|              0|               0|             0|          11|    0|          0|                0|                0|                                    0|                             0|                         0|\n",
      "+----------+-------------+-------+----------+------+------------+-------------+---------------+--------------+------------+----------------+-----------+-----------+---------------+----------------+--------------+------------+-----+-----------+-----------------+-----------------+-------------------------------------+------------------------------+--------------------------+\n",
      "\n"
     ]
    }
   ],
   "source": [
    "allCols = df_spark.columns\n",
    "df_spark.select(*[\n",
    "    (\n",
    "        f.count(f.when(f.col(c).isNull(), c)) if t not in (\"timestamp\", \"date\")\n",
    "        else f.count(f.when(f.col(c).isNull(), c))\n",
    "    ).alias(c)\n",
    "    for c, t in df_spark.dtypes if c in allCols\n",
    "]).show(truncate=6)\n"
   ]
  },
  {
   "cell_type": "markdown",
   "id": "3bc9443f-eeb3-4ca7-99c1-013df815e86a",
   "metadata": {},
   "source": [
    "# Checking column by column"
   ]
  },
  {
   "cell_type": "code",
   "execution_count": 6,
   "id": "e96a1cba-8b28-4bf1-a335-395a34756f0c",
   "metadata": {},
   "outputs": [
    {
     "name": "stdout",
     "output_type": "stream",
     "text": [
      "root\n",
      " |-- customerID: string (nullable = true)\n",
      " |-- SeniorCitizen: integer (nullable = true)\n",
      " |-- Partner: string (nullable = true)\n",
      " |-- Dependents: string (nullable = true)\n",
      " |-- tenure: integer (nullable = true)\n",
      " |-- PhoneService: string (nullable = true)\n",
      " |-- MultipleLines: string (nullable = true)\n",
      " |-- InternetService: string (nullable = true)\n",
      " |-- OnlineSecurity: string (nullable = true)\n",
      " |-- OnlineBackup: string (nullable = true)\n",
      " |-- DeviceProtection: string (nullable = true)\n",
      " |-- TechSupport: string (nullable = true)\n",
      " |-- StreamingTV: string (nullable = true)\n",
      " |-- StreamingMovies: string (nullable = true)\n",
      " |-- PaperlessBilling: string (nullable = true)\n",
      " |-- MonthlyCharges: string (nullable = true)\n",
      " |-- TotalCharges: string (nullable = true)\n",
      " |-- Churn: string (nullable = true)\n",
      " |-- gender_Male: boolean (nullable = true)\n",
      " |-- Contract_One year: boolean (nullable = true)\n",
      " |-- Contract_Two year: boolean (nullable = true)\n",
      " |-- PaymentMethod_Credit card (automatic): boolean (nullable = true)\n",
      " |-- PaymentMethod_Electronic check: boolean (nullable = true)\n",
      " |-- PaymentMethod_Mailed check: boolean (nullable = true)\n",
      "\n"
     ]
    }
   ],
   "source": [
    "df_spark.printSchema()"
   ]
  },
  {
   "cell_type": "markdown",
   "id": "1dfa0772-809b-4e5f-aa57-3f2e6e48f59f",
   "metadata": {},
   "source": [
    "# Drop columns"
   ]
  },
  {
   "cell_type": "code",
   "execution_count": 7,
   "id": "087857e6-06b2-4e2c-b515-226055a413da",
   "metadata": {},
   "outputs": [],
   "source": [
    "cols_drop_1st = ('customerID')\n",
    "\n",
    "df_spark = df_spark.drop(cols_drop_1st)"
   ]
  },
  {
   "cell_type": "markdown",
   "id": "f5a75360-a4ca-4ead-a2c3-78c4226e043a",
   "metadata": {},
   "source": [
    "# Check and remove nulls"
   ]
  },
  {
   "cell_type": "code",
   "execution_count": 8,
   "id": "68e4d1c2-e5c3-4d36-b19b-8d7bc30f96a5",
   "metadata": {},
   "outputs": [
    {
     "name": "stdout",
     "output_type": "stream",
     "text": [
      "root\n",
      " |-- SeniorCitizen: integer (nullable = true)\n",
      " |-- Partner: string (nullable = true)\n",
      " |-- Dependents: string (nullable = true)\n",
      " |-- tenure: integer (nullable = true)\n",
      " |-- PhoneService: string (nullable = true)\n",
      " |-- MultipleLines: string (nullable = true)\n",
      " |-- InternetService: string (nullable = true)\n",
      " |-- OnlineSecurity: string (nullable = true)\n",
      " |-- OnlineBackup: string (nullable = true)\n",
      " |-- DeviceProtection: string (nullable = true)\n",
      " |-- TechSupport: string (nullable = true)\n",
      " |-- StreamingTV: string (nullable = true)\n",
      " |-- StreamingMovies: string (nullable = true)\n",
      " |-- PaperlessBilling: string (nullable = true)\n",
      " |-- MonthlyCharges: string (nullable = true)\n",
      " |-- TotalCharges: string (nullable = true)\n",
      " |-- Churn: string (nullable = true)\n",
      " |-- gender_Male: boolean (nullable = true)\n",
      " |-- Contract_One year: boolean (nullable = true)\n",
      " |-- Contract_Two year: boolean (nullable = true)\n",
      " |-- PaymentMethod_Credit card (automatic): boolean (nullable = true)\n",
      " |-- PaymentMethod_Electronic check: boolean (nullable = true)\n",
      " |-- PaymentMethod_Mailed check: boolean (nullable = true)\n",
      "\n"
     ]
    }
   ],
   "source": [
    "df_spark.printSchema()"
   ]
  },
  {
   "cell_type": "markdown",
   "id": "33408f83-3d71-492f-bcca-2bba2b58e2af",
   "metadata": {},
   "source": [
    "# Organize columns"
   ]
  },
  {
   "cell_type": "code",
   "execution_count": 9,
   "id": "aae2c0b3-ab90-458c-a31a-025e2100f1b3",
   "metadata": {},
   "outputs": [
    {
     "data": {
      "text/html": [
       "<div>\n",
       "<style scoped>\n",
       "    .dataframe tbody tr th:only-of-type {\n",
       "        vertical-align: middle;\n",
       "    }\n",
       "\n",
       "    .dataframe tbody tr th {\n",
       "        vertical-align: top;\n",
       "    }\n",
       "\n",
       "    .dataframe thead th {\n",
       "        text-align: right;\n",
       "    }\n",
       "</style>\n",
       "<table border=\"1\" class=\"dataframe\">\n",
       "  <thead>\n",
       "    <tr style=\"text-align: right;\">\n",
       "      <th></th>\n",
       "      <th>TotalCharges</th>\n",
       "    </tr>\n",
       "  </thead>\n",
       "  <tbody>\n",
       "    <tr>\n",
       "      <th>0</th>\n",
       "      <td>8672,45</td>\n",
       "    </tr>\n",
       "    <tr>\n",
       "      <th>1</th>\n",
       "      <td>8477,6</td>\n",
       "    </tr>\n",
       "    <tr>\n",
       "      <th>2</th>\n",
       "      <td>7990,05</td>\n",
       "    </tr>\n",
       "    <tr>\n",
       "      <th>3</th>\n",
       "      <td>7365,7</td>\n",
       "    </tr>\n",
       "    <tr>\n",
       "      <th>4</th>\n",
       "      <td>7804,15</td>\n",
       "    </tr>\n",
       "  </tbody>\n",
       "</table>\n",
       "</div>"
      ],
      "text/plain": [
       "  TotalCharges\n",
       "0      8672,45\n",
       "1       8477,6\n",
       "2      7990,05\n",
       "3       7365,7\n",
       "4      7804,15"
      ]
     },
     "execution_count": 9,
     "metadata": {},
     "output_type": "execute_result"
    }
   ],
   "source": [
    "df_pd_charges = df_spark.select('TotalCharges').toPandas()\n",
    "df_pd_charges.head()"
   ]
  },
  {
   "cell_type": "code",
   "execution_count": 10,
   "id": "7fd8fab5-96ff-4c25-adde-da92f3c989b1",
   "metadata": {},
   "outputs": [],
   "source": [
    "df_spark = df_spark.withColumn(\"MonthlyCharges\", regexp_replace(col(\"MonthlyCharges\"), \",\", \".\"))\n",
    "df_spark = df_spark.withColumn(\"MonthlyCharges\", col(\"MonthlyCharges\").cast(\"double\"))\n",
    "df_spark = df_spark.withColumn(\"TotalCharges\", regexp_replace(col(\"TotalCharges\"), \",\", \".\"))\n",
    "df_spark = df_spark.withColumn(\"TotalCharges\", col(\"TotalCharges\").cast(\"double\"))"
   ]
  },
  {
   "cell_type": "code",
   "execution_count": 11,
   "id": "82080b57-de94-40a2-9bb1-61a1abfca26a",
   "metadata": {},
   "outputs": [],
   "source": [
    "df_spark = df_spark.withColumn(\"Partner\", when(col(\"Partner\") == \"Yes\", True).otherwise(False))\n",
    "df_spark = df_spark.withColumn(\"Dependents\", when(col(\"Dependents\") == \"Yes\", True).otherwise(False))\n",
    "df_spark = df_spark.withColumn(\"InternetService\", when(col(\"InternetService\") == \"DSL\", False).otherwise(True))\n",
    "df_spark = df_spark.withColumn(\"PhoneService\", when(col(\"PhoneService\") == \"Yes\", True).otherwise(False))\n",
    "df_spark = df_spark.withColumn(\"MultipleLines\", when(col(\"MultipleLines\") == \"Yes\", True).otherwise(False))\n",
    "df_spark = df_spark.withColumn(\"OnlineSecurity\", when(col(\"OnlineSecurity\") == \"Yes\", True).otherwise(False))\n",
    "df_spark = df_spark.withColumn(\"OnlineBackup\", when(col(\"OnlineBackup\") == \"Yes\", True).otherwise(False))\n",
    "df_spark = df_spark.withColumn(\"DeviceProtection\", when(col(\"DeviceProtection\") == \"Yes\", True).otherwise(False))\n",
    "df_spark = df_spark.withColumn(\"TechSupport\", when(col(\"TechSupport\") == \"Yes\", True).otherwise(False))\n",
    "df_spark = df_spark.withColumn(\"StreamingTV\", when(col(\"StreamingTV\") == \"Yes\", True).otherwise(False))\n",
    "df_spark = df_spark.withColumn(\"StreamingMovies\", when(col(\"StreamingMovies\") == \"Yes\", True).otherwise(False))\n",
    "df_spark = df_spark.withColumn(\"PaperlessBilling\", when(col(\"PaperlessBilling\") == \"Yes\", True).otherwise(False))"
   ]
  },
  {
   "cell_type": "code",
   "execution_count": 12,
   "id": "ae1b46e4-934b-4e90-b072-ffccd9022e3e",
   "metadata": {},
   "outputs": [],
   "source": [
    "df_spark = df_spark.withColumn(\"SeniorCitizen\", when(col(\"SeniorCitizen\") == 0, False).otherwise(True))"
   ]
  },
  {
   "cell_type": "code",
   "execution_count": 13,
   "id": "fe5b6612-6d29-410d-ae29-f3b2257bb064",
   "metadata": {},
   "outputs": [],
   "source": [
    "df_spark = df_spark.withColumnRenamed(\"InternetService\", \"InternetServiceFiber\")"
   ]
  },
  {
   "cell_type": "code",
   "execution_count": 14,
   "id": "7c752e71-9837-474c-bcb9-9547b85a322b",
   "metadata": {
    "scrolled": true
   },
   "outputs": [
    {
     "data": {
      "text/html": [
       "<div>\n",
       "<style scoped>\n",
       "    .dataframe tbody tr th:only-of-type {\n",
       "        vertical-align: middle;\n",
       "    }\n",
       "\n",
       "    .dataframe tbody tr th {\n",
       "        vertical-align: top;\n",
       "    }\n",
       "\n",
       "    .dataframe thead th {\n",
       "        text-align: right;\n",
       "    }\n",
       "</style>\n",
       "<table border=\"1\" class=\"dataframe\">\n",
       "  <thead>\n",
       "    <tr style=\"text-align: right;\">\n",
       "      <th></th>\n",
       "      <th>SeniorCitizen</th>\n",
       "      <th>Partner</th>\n",
       "      <th>Dependents</th>\n",
       "      <th>tenure</th>\n",
       "      <th>PhoneService</th>\n",
       "      <th>MultipleLines</th>\n",
       "      <th>InternetServiceFiber</th>\n",
       "      <th>OnlineSecurity</th>\n",
       "      <th>OnlineBackup</th>\n",
       "      <th>DeviceProtection</th>\n",
       "      <th>...</th>\n",
       "      <th>PaperlessBilling</th>\n",
       "      <th>MonthlyCharges</th>\n",
       "      <th>TotalCharges</th>\n",
       "      <th>Churn</th>\n",
       "      <th>gender_Male</th>\n",
       "      <th>Contract_One year</th>\n",
       "      <th>Contract_Two year</th>\n",
       "      <th>PaymentMethod_Credit card (automatic)</th>\n",
       "      <th>PaymentMethod_Electronic check</th>\n",
       "      <th>PaymentMethod_Mailed check</th>\n",
       "    </tr>\n",
       "  </thead>\n",
       "  <tbody>\n",
       "    <tr>\n",
       "      <th>0</th>\n",
       "      <td>False</td>\n",
       "      <td>True</td>\n",
       "      <td>True</td>\n",
       "      <td>72</td>\n",
       "      <td>True</td>\n",
       "      <td>True</td>\n",
       "      <td>True</td>\n",
       "      <td>True</td>\n",
       "      <td>True</td>\n",
       "      <td>True</td>\n",
       "      <td>...</td>\n",
       "      <td>True</td>\n",
       "      <td>118.75</td>\n",
       "      <td>8672.45</td>\n",
       "      <td>No</td>\n",
       "      <td>False</td>\n",
       "      <td>False</td>\n",
       "      <td>True</td>\n",
       "      <td>False</td>\n",
       "      <td>False</td>\n",
       "      <td>False</td>\n",
       "    </tr>\n",
       "    <tr>\n",
       "      <th>1</th>\n",
       "      <td>False</td>\n",
       "      <td>False</td>\n",
       "      <td>False</td>\n",
       "      <td>71</td>\n",
       "      <td>True</td>\n",
       "      <td>True</td>\n",
       "      <td>True</td>\n",
       "      <td>True</td>\n",
       "      <td>True</td>\n",
       "      <td>True</td>\n",
       "      <td>...</td>\n",
       "      <td>True</td>\n",
       "      <td>118.65</td>\n",
       "      <td>8477.60</td>\n",
       "      <td>No</td>\n",
       "      <td>False</td>\n",
       "      <td>False</td>\n",
       "      <td>True</td>\n",
       "      <td>False</td>\n",
       "      <td>True</td>\n",
       "      <td>False</td>\n",
       "    </tr>\n",
       "    <tr>\n",
       "      <th>2</th>\n",
       "      <td>False</td>\n",
       "      <td>True</td>\n",
       "      <td>False</td>\n",
       "      <td>68</td>\n",
       "      <td>True</td>\n",
       "      <td>True</td>\n",
       "      <td>True</td>\n",
       "      <td>True</td>\n",
       "      <td>True</td>\n",
       "      <td>True</td>\n",
       "      <td>...</td>\n",
       "      <td>False</td>\n",
       "      <td>118.60</td>\n",
       "      <td>7990.05</td>\n",
       "      <td>No</td>\n",
       "      <td>False</td>\n",
       "      <td>False</td>\n",
       "      <td>True</td>\n",
       "      <td>False</td>\n",
       "      <td>False</td>\n",
       "      <td>True</td>\n",
       "    </tr>\n",
       "    <tr>\n",
       "      <th>3</th>\n",
       "      <td>False</td>\n",
       "      <td>False</td>\n",
       "      <td>False</td>\n",
       "      <td>61</td>\n",
       "      <td>True</td>\n",
       "      <td>True</td>\n",
       "      <td>True</td>\n",
       "      <td>True</td>\n",
       "      <td>True</td>\n",
       "      <td>True</td>\n",
       "      <td>...</td>\n",
       "      <td>True</td>\n",
       "      <td>118.60</td>\n",
       "      <td>7365.70</td>\n",
       "      <td>No</td>\n",
       "      <td>False</td>\n",
       "      <td>True</td>\n",
       "      <td>False</td>\n",
       "      <td>False</td>\n",
       "      <td>True</td>\n",
       "      <td>False</td>\n",
       "    </tr>\n",
       "    <tr>\n",
       "      <th>4</th>\n",
       "      <td>False</td>\n",
       "      <td>False</td>\n",
       "      <td>False</td>\n",
       "      <td>67</td>\n",
       "      <td>True</td>\n",
       "      <td>True</td>\n",
       "      <td>True</td>\n",
       "      <td>True</td>\n",
       "      <td>True</td>\n",
       "      <td>True</td>\n",
       "      <td>...</td>\n",
       "      <td>True</td>\n",
       "      <td>118.35</td>\n",
       "      <td>7804.15</td>\n",
       "      <td>Yes</td>\n",
       "      <td>True</td>\n",
       "      <td>True</td>\n",
       "      <td>False</td>\n",
       "      <td>False</td>\n",
       "      <td>False</td>\n",
       "      <td>False</td>\n",
       "    </tr>\n",
       "    <tr>\n",
       "      <th>...</th>\n",
       "      <td>...</td>\n",
       "      <td>...</td>\n",
       "      <td>...</td>\n",
       "      <td>...</td>\n",
       "      <td>...</td>\n",
       "      <td>...</td>\n",
       "      <td>...</td>\n",
       "      <td>...</td>\n",
       "      <td>...</td>\n",
       "      <td>...</td>\n",
       "      <td>...</td>\n",
       "      <td>...</td>\n",
       "      <td>...</td>\n",
       "      <td>...</td>\n",
       "      <td>...</td>\n",
       "      <td>...</td>\n",
       "      <td>...</td>\n",
       "      <td>...</td>\n",
       "      <td>...</td>\n",
       "      <td>...</td>\n",
       "      <td>...</td>\n",
       "    </tr>\n",
       "    <tr>\n",
       "      <th>7038</th>\n",
       "      <td>False</td>\n",
       "      <td>False</td>\n",
       "      <td>False</td>\n",
       "      <td>53</td>\n",
       "      <td>True</td>\n",
       "      <td>False</td>\n",
       "      <td>True</td>\n",
       "      <td>False</td>\n",
       "      <td>False</td>\n",
       "      <td>False</td>\n",
       "      <td>...</td>\n",
       "      <td>False</td>\n",
       "      <td>18.70</td>\n",
       "      <td>1005.70</td>\n",
       "      <td>No</td>\n",
       "      <td>False</td>\n",
       "      <td>False</td>\n",
       "      <td>True</td>\n",
       "      <td>False</td>\n",
       "      <td>False</td>\n",
       "      <td>True</td>\n",
       "    </tr>\n",
       "    <tr>\n",
       "      <th>7039</th>\n",
       "      <td>False</td>\n",
       "      <td>True</td>\n",
       "      <td>True</td>\n",
       "      <td>25</td>\n",
       "      <td>True</td>\n",
       "      <td>False</td>\n",
       "      <td>True</td>\n",
       "      <td>False</td>\n",
       "      <td>False</td>\n",
       "      <td>False</td>\n",
       "      <td>...</td>\n",
       "      <td>True</td>\n",
       "      <td>18.70</td>\n",
       "      <td>383.65</td>\n",
       "      <td>No</td>\n",
       "      <td>False</td>\n",
       "      <td>False</td>\n",
       "      <td>True</td>\n",
       "      <td>False</td>\n",
       "      <td>False</td>\n",
       "      <td>True</td>\n",
       "    </tr>\n",
       "    <tr>\n",
       "      <th>7040</th>\n",
       "      <td>False</td>\n",
       "      <td>False</td>\n",
       "      <td>False</td>\n",
       "      <td>36</td>\n",
       "      <td>True</td>\n",
       "      <td>False</td>\n",
       "      <td>True</td>\n",
       "      <td>False</td>\n",
       "      <td>False</td>\n",
       "      <td>False</td>\n",
       "      <td>...</td>\n",
       "      <td>True</td>\n",
       "      <td>18.55</td>\n",
       "      <td>689.00</td>\n",
       "      <td>No</td>\n",
       "      <td>True</td>\n",
       "      <td>False</td>\n",
       "      <td>True</td>\n",
       "      <td>True</td>\n",
       "      <td>False</td>\n",
       "      <td>False</td>\n",
       "    </tr>\n",
       "    <tr>\n",
       "      <th>7041</th>\n",
       "      <td>False</td>\n",
       "      <td>True</td>\n",
       "      <td>False</td>\n",
       "      <td>59</td>\n",
       "      <td>True</td>\n",
       "      <td>False</td>\n",
       "      <td>True</td>\n",
       "      <td>False</td>\n",
       "      <td>False</td>\n",
       "      <td>False</td>\n",
       "      <td>...</td>\n",
       "      <td>False</td>\n",
       "      <td>18.40</td>\n",
       "      <td>1057.85</td>\n",
       "      <td>No</td>\n",
       "      <td>False</td>\n",
       "      <td>False</td>\n",
       "      <td>True</td>\n",
       "      <td>False</td>\n",
       "      <td>False</td>\n",
       "      <td>False</td>\n",
       "    </tr>\n",
       "    <tr>\n",
       "      <th>7042</th>\n",
       "      <td>False</td>\n",
       "      <td>False</td>\n",
       "      <td>False</td>\n",
       "      <td>28</td>\n",
       "      <td>True</td>\n",
       "      <td>False</td>\n",
       "      <td>True</td>\n",
       "      <td>False</td>\n",
       "      <td>False</td>\n",
       "      <td>False</td>\n",
       "      <td>...</td>\n",
       "      <td>False</td>\n",
       "      <td>18.25</td>\n",
       "      <td>534.70</td>\n",
       "      <td>No</td>\n",
       "      <td>True</td>\n",
       "      <td>True</td>\n",
       "      <td>False</td>\n",
       "      <td>True</td>\n",
       "      <td>False</td>\n",
       "      <td>False</td>\n",
       "    </tr>\n",
       "  </tbody>\n",
       "</table>\n",
       "<p>7043 rows × 23 columns</p>\n",
       "</div>"
      ],
      "text/plain": [
       "      SeniorCitizen  Partner  Dependents  tenure  PhoneService  MultipleLines  \\\n",
       "0             False     True        True      72          True           True   \n",
       "1             False    False       False      71          True           True   \n",
       "2             False     True       False      68          True           True   \n",
       "3             False    False       False      61          True           True   \n",
       "4             False    False       False      67          True           True   \n",
       "...             ...      ...         ...     ...           ...            ...   \n",
       "7038          False    False       False      53          True          False   \n",
       "7039          False     True        True      25          True          False   \n",
       "7040          False    False       False      36          True          False   \n",
       "7041          False     True       False      59          True          False   \n",
       "7042          False    False       False      28          True          False   \n",
       "\n",
       "      InternetServiceFiber  OnlineSecurity  OnlineBackup  DeviceProtection  \\\n",
       "0                     True            True          True              True   \n",
       "1                     True            True          True              True   \n",
       "2                     True            True          True              True   \n",
       "3                     True            True          True              True   \n",
       "4                     True            True          True              True   \n",
       "...                    ...             ...           ...               ...   \n",
       "7038                  True           False         False             False   \n",
       "7039                  True           False         False             False   \n",
       "7040                  True           False         False             False   \n",
       "7041                  True           False         False             False   \n",
       "7042                  True           False         False             False   \n",
       "\n",
       "      ...  PaperlessBilling  MonthlyCharges  TotalCharges  Churn  gender_Male  \\\n",
       "0     ...              True          118.75       8672.45     No        False   \n",
       "1     ...              True          118.65       8477.60     No        False   \n",
       "2     ...             False          118.60       7990.05     No        False   \n",
       "3     ...              True          118.60       7365.70     No        False   \n",
       "4     ...              True          118.35       7804.15    Yes         True   \n",
       "...   ...               ...             ...           ...    ...          ...   \n",
       "7038  ...             False           18.70       1005.70     No        False   \n",
       "7039  ...              True           18.70        383.65     No        False   \n",
       "7040  ...              True           18.55        689.00     No         True   \n",
       "7041  ...             False           18.40       1057.85     No        False   \n",
       "7042  ...             False           18.25        534.70     No         True   \n",
       "\n",
       "      Contract_One year Contract_Two year  \\\n",
       "0                 False              True   \n",
       "1                 False              True   \n",
       "2                 False              True   \n",
       "3                  True             False   \n",
       "4                  True             False   \n",
       "...                 ...               ...   \n",
       "7038              False              True   \n",
       "7039              False              True   \n",
       "7040              False              True   \n",
       "7041              False              True   \n",
       "7042               True             False   \n",
       "\n",
       "      PaymentMethod_Credit card (automatic)  PaymentMethod_Electronic check  \\\n",
       "0                                     False                           False   \n",
       "1                                     False                            True   \n",
       "2                                     False                           False   \n",
       "3                                     False                            True   \n",
       "4                                     False                           False   \n",
       "...                                     ...                             ...   \n",
       "7038                                  False                           False   \n",
       "7039                                  False                           False   \n",
       "7040                                   True                           False   \n",
       "7041                                  False                           False   \n",
       "7042                                   True                           False   \n",
       "\n",
       "      PaymentMethod_Mailed check  \n",
       "0                          False  \n",
       "1                          False  \n",
       "2                           True  \n",
       "3                          False  \n",
       "4                          False  \n",
       "...                          ...  \n",
       "7038                        True  \n",
       "7039                        True  \n",
       "7040                       False  \n",
       "7041                       False  \n",
       "7042                       False  \n",
       "\n",
       "[7043 rows x 23 columns]"
      ]
     },
     "execution_count": 14,
     "metadata": {},
     "output_type": "execute_result"
    }
   ],
   "source": [
    "df_pd = df_spark.toPandas()\n",
    "df_pd"
   ]
  },
  {
   "cell_type": "markdown",
   "id": "6f655bb4-e408-47d6-aa47-1a09dbd10859",
   "metadata": {},
   "source": [
    "# Creating target"
   ]
  },
  {
   "cell_type": "code",
   "execution_count": 15,
   "id": "eb89ac86-0558-4cd7-9787-64819ef81e02",
   "metadata": {},
   "outputs": [],
   "source": [
    "df_spark = df_spark.withColumn(\"Churn\", when(col(\"Churn\") == \"Yes\", True).otherwise(False))"
   ]
  },
  {
   "cell_type": "markdown",
   "id": "b634710a-0eb9-4f0e-afd5-3d5f40f85ccf",
   "metadata": {},
   "source": [
    "# Quartis and some analysis"
   ]
  },
  {
   "cell_type": "code",
   "execution_count": 16,
   "id": "748bece6-a047-4e16-adc1-44ce58b570e8",
   "metadata": {},
   "outputs": [
    {
     "name": "stdout",
     "output_type": "stream",
     "text": [
      "Quartil 0.0: 0.0\n",
      "Quartil 0.25: 9.0\n",
      "Quartil 0.5: 29.0\n",
      "Quartil 0.75: 55.0\n",
      "Quartil 1.0: 72.0\n"
     ]
    }
   ],
   "source": [
    "quartis = [0.0, 0.25, 0.5, 0.75, 1.0]\n",
    "result = df_spark.approxQuantile(\"tenure\", quartis, 0.01)\n",
    "\n",
    "for i, quartil in enumerate(quartis):\n",
    "    print(f\"Quartil {quartil}: {result[i]}\")"
   ]
  },
  {
   "cell_type": "code",
   "execution_count": 17,
   "id": "bb8f1a57-e4c5-4d53-87af-2877c52620e4",
   "metadata": {},
   "outputs": [
    {
     "name": "stdout",
     "output_type": "stream",
     "text": [
      "Quartil 0.0: 18.25\n",
      "Quartil 0.25: 36.25\n",
      "Quartil 0.5: 70.25\n",
      "Quartil 0.75: 89.55\n",
      "Quartil 1.0: 118.75\n"
     ]
    }
   ],
   "source": [
    "quartis = [0.0, 0.25, 0.5, 0.75, 1.0]\n",
    "result = df_spark.approxQuantile(\"MonthlyCharges\", quartis, 0.01)\n",
    "\n",
    "for i, quartil in enumerate(quartis):\n",
    "    print(f\"Quartil {quartil}: {result[i]}\")"
   ]
  },
  {
   "cell_type": "code",
   "execution_count": 18,
   "id": "44c41601-351a-4e3f-ac55-e9808bea6438",
   "metadata": {},
   "outputs": [
    {
     "name": "stdout",
     "output_type": "stream",
     "text": [
      "Quartil 0.0: 18.8\n",
      "Quartil 0.25: 402.5\n",
      "Quartil 0.5: 1379.6\n",
      "Quartil 0.75: 3682.45\n",
      "Quartil 1.0: 8684.8\n"
     ]
    }
   ],
   "source": [
    "quartis = [0.0, 0.25, 0.5, 0.75, 1.0]\n",
    "result = df_spark.approxQuantile(\"TotalCharges\", quartis, 0.01)\n",
    "\n",
    "for i, quartil in enumerate(quartis):\n",
    "    print(f\"Quartil {quartil}: {result[i]}\")"
   ]
  },
  {
   "cell_type": "markdown",
   "id": "7c9c3299-986d-4ebd-8875-84b26a4dac99",
   "metadata": {},
   "source": [
    "# Create categories"
   ]
  },
  {
   "cell_type": "code",
   "execution_count": 19,
   "id": "32889733-5de4-446d-8a0a-9611a323a30a",
   "metadata": {},
   "outputs": [
    {
     "data": {
      "image/png": "[encoded data removed]",
      "text/plain": [
       "<Figure size 400x200 with 1 Axes>"
      ]
     },
     "metadata": {},
     "output_type": "display_data"
    }
   ],
   "source": [
    "df_pd_tenure = df_spark.select('tenure').toPandas()\n",
    "fig, ax = plt.subplots(figsize=(4, 2))\n",
    "sns.histplot(data=df_pd_tenure, x='tenure', bins=15, kde=True)\n",
    "plt.xlabel(' Período de Contrato (em meses)')\n",
    "plt.ylabel('Frequência')\n",
    "plt.title('Distribuição do período de Contrato (em meses)')\n",
    "plt.show()"
   ]
  },
  {
   "cell_type": "code",
   "execution_count": 20,
   "id": "fdad1675-36e0-4fa3-a9ea-344f237b7977",
   "metadata": {},
   "outputs": [
    {
     "data": {
      "image/png": "[encoded data removed]",
      "text/plain": [
       "<Figure size 400x200 with 1 Axes>"
      ]
     },
     "metadata": {},
     "output_type": "display_data"
    }
   ],
   "source": [
    "df_pd_MonthlyCharges = df_spark.select('MonthlyCharges').toPandas()\n",
    "fig, ax = plt.subplots(figsize=(4, 2))\n",
    "sns.histplot(data=df_pd_MonthlyCharges, x='MonthlyCharges', bins=15, kde=True)\n",
    "plt.xlabel('Custo Mensal')\n",
    "plt.ylabel('Frequência')\n",
    "plt.title('Distribuição do Custo Mensal')\n",
    "plt.show()"
   ]
  },
  {
   "cell_type": "code",
   "execution_count": 21,
   "id": "5cbea5f3-5dc2-41c1-ba12-b473c8373a60",
   "metadata": {},
   "outputs": [
    {
     "data": {
      "image/png": "[encoded data removed]",
      "text/plain": [
       "<Figure size 400x200 with 1 Axes>"
      ]
     },
     "metadata": {},
     "output_type": "display_data"
    }
   ],
   "source": [
    "df_pd_TotalCharges = df_spark.select('TotalCharges').toPandas()\n",
    "fig, ax = plt.subplots(figsize=(4, 2))\n",
    "sns.histplot(data=df_pd_TotalCharges, x='TotalCharges', bins=15, kde=True)\n",
    "plt.xlabel('Custo Total')\n",
    "plt.ylabel('Frequência')\n",
    "plt.title('Distribuição do Custo Total')\n",
    "plt.show()"
   ]
  },
  {
   "cell_type": "markdown",
   "id": "76043dea-b073-4a13-94d6-8e45b839092a",
   "metadata": {},
   "source": [
    "# Rename categories"
   ]
  },
  {
   "cell_type": "code",
   "execution_count": 22,
   "id": "b68c0f71-5562-4466-a96f-bf7cc0f7bc0e",
   "metadata": {},
   "outputs": [
    {
     "name": "stdout",
     "output_type": "stream",
     "text": [
      "root\n",
      " |-- SeniorCitizen: boolean (nullable = false)\n",
      " |-- Partner: boolean (nullable = false)\n",
      " |-- Dependents: boolean (nullable = false)\n",
      " |-- tenure: integer (nullable = true)\n",
      " |-- PhoneService: boolean (nullable = false)\n",
      " |-- MultipleLines: boolean (nullable = false)\n",
      " |-- InternetServiceFiber: boolean (nullable = false)\n",
      " |-- OnlineSecurity: boolean (nullable = false)\n",
      " |-- OnlineBackup: boolean (nullable = false)\n",
      " |-- DeviceProtection: boolean (nullable = false)\n",
      " |-- TechSupport: boolean (nullable = false)\n",
      " |-- StreamingTV: boolean (nullable = false)\n",
      " |-- StreamingMovies: boolean (nullable = false)\n",
      " |-- PaperlessBilling: boolean (nullable = false)\n",
      " |-- MonthlyCharges: double (nullable = true)\n",
      " |-- TotalCharges: double (nullable = true)\n",
      " |-- Churn: boolean (nullable = false)\n",
      " |-- gender_Male: boolean (nullable = true)\n",
      " |-- Contract_One year: boolean (nullable = true)\n",
      " |-- Contract_Two year: boolean (nullable = true)\n",
      " |-- PaymentMethod_Credit card (automatic): boolean (nullable = true)\n",
      " |-- PaymentMethod_Electronic check: boolean (nullable = true)\n",
      " |-- PaymentMethod_Mailed check: boolean (nullable = true)\n",
      "\n"
     ]
    }
   ],
   "source": [
    "df_spark.printSchema()"
   ]
  },
  {
   "cell_type": "markdown",
   "id": "e960c334-8529-40a2-9a9e-4e088897c552",
   "metadata": {},
   "source": [
    "# Checking target"
   ]
  },
  {
   "cell_type": "code",
   "execution_count": 23,
   "id": "9faa4f2f-2dbf-4a8b-9417-cdfa9057b693",
   "metadata": {},
   "outputs": [
    {
     "name": "stdout",
     "output_type": "stream",
     "text": [
      "+-----+-----+\n",
      "|Churn|count|\n",
      "+-----+-----+\n",
      "|false| 5174|\n",
      "| true| 1869|\n",
      "+-----+-----+\n",
      "\n"
     ]
    }
   ],
   "source": [
    "df_spark.groupBy('Churn').count().orderBy('Churn').show()"
   ]
  },
  {
   "cell_type": "markdown",
   "id": "b4a82bd0-3b2e-4977-9ac6-f3f746f7ab10",
   "metadata": {},
   "source": [
    "# Saving full dataset"
   ]
  },
  {
   "cell_type": "code",
   "execution_count": 26,
   "id": "b8805257-b662-4f65-8877-9a50113a064c",
   "metadata": {},
   "outputs": [
    {
     "name": "stdout",
     "output_type": "stream",
     "text": [
      "\u001b[33mResult generate with sucess at 2023-10-06 12:35:34.339821\n",
      "\u001b[34mDirectory: C:\\Users\\victo\\Desktop\\technical_test\\datasets\n"
     ]
    }
   ],
   "source": [
    "# Spark df_spark to Pandas df_pd\n",
    "df_pd = df_spark.toPandas()\n",
    "\n",
    "# Store result\n",
    "df_pd.to_csv(PATH_OUTPUT + f\"\\\\{FILE_NAME_OUTPUT}.csv\", index=False, mode='w')\n",
    "print(Fore.YELLOW + f'Result generate with sucess at {TSTAMP}')\n",
    "print(Fore.BLUE + f'Directory: {PATH_OUTPUT}')"
   ]
  },
  {
   "cell_type": "markdown",
   "id": "5a4ab555-1b6d-46a1-be3d-167ba1e2baa4",
   "metadata": {},
   "source": [
    "# Save Train and Validation datasets"
   ]
  },
  {
   "cell_type": "code",
   "execution_count": 25,
   "id": "d40086b7-abe3-4f64-bea4-30cc302f9980",
   "metadata": {},
   "outputs": [
    {
     "name": "stdout",
     "output_type": "stream",
     "text": [
      "\u001b[33mResult generate with sucess at 2023-10-06 12:35:34.339821\n",
      "\u001b[34mDirectory: C:\\Users\\victo\\Desktop\\technical_test\\datasets\n"
     ]
    }
   ],
   "source": [
    "df_pd_train = df_pd.sample(frac=0.80, random_state=42)\n",
    "df_pd_validation = df_pd[~df_pd.index.isin(df_pd_train.index)]\n",
    "\n",
    "df_pd_train.to_csv(PATH_OUTPUT + f\"\\\\{FILE_NAME_OUTPUT}_train.csv\", index=False, mode='w')\n",
    "df_pd_validation.to_csv(PATH_OUTPUT + f\"\\\\{FILE_NAME_OUTPUT}_validation.csv\", index=False, mode='w')\n",
    "print(Fore.YELLOW + f'Result generate with sucess at {TSTAMP}')\n",
    "print(Fore.BLUE + f'Directory: {PATH_OUTPUT}')"
   ]
  },
  {
   "cell_type": "code",
   "execution_count": null,
   "id": "f49712a6-4cb1-4c28-baaa-0b06f987b3fe",
   "metadata": {},
   "outputs": [],
   "source": []
  }
 ],
 "metadata": {
  "kernelspec": {
   "display_name": "Python 3 (ipykernel)",
   "language": "python",
   "name": "python3"
  },
  "language_info": {
   "codemirror_mode": {
    "name": "ipython",
    "version": 3
   },
   "file_extension": ".py",
   "mimetype": "text/x-python",
   "name": "python",
   "nbconvert_exporter": "python",
   "pygments_lexer": "ipython3",
   "version": "3.11.5"
  }
 },
 "nbformat": 4,
 "nbformat_minor": 5
}
